{
 "cells": [
  {
   "cell_type": "code",
   "execution_count": 1,
   "id": "de058b5c",
   "metadata": {},
   "outputs": [],
   "source": [
    "import re\n",
    "import random"
   ]
  },
  {
   "cell_type": "code",
   "execution_count": 15,
   "id": "8b7b562b",
   "metadata": {},
   "outputs": [],
   "source": [
    "class RuleBot():\n",
    "    \n",
    "    #potential negative responses\n",
    "    negative_responses = (\"no\", \"not\", \"never\", \"nope\", \"nah\", \"not a chance\", \"sorry\")\n",
    "    \n",
    "    #potential exit commands\n",
    "    exit_reponses = (\"pause\", \"exit\", \"goodbye\", \"bye\")\n",
    "    \n",
    "    #random questions\n",
    "    random_questions = (\n",
    "        \n",
    "        \"who are you?\", \n",
    "        \"are there other creatures like you?\",\n",
    "        \"does earth have a ladder?\", \n",
    "        \"what technology do you use?\"\n",
    "    )\n",
    "    \n",
    "    def __init__(self):\n",
    "        self.intro = {\n",
    "            'describe_planet_intel':  '.*\\s*your planet.*',\n",
    "            'answer_why_intent': 'why\\sare.*',\n",
    "            'about_github': '.*\\s*github'\n",
    "        }\n",
    "\n",
    "    \n",
    "    \n",
    "    def greet(self):\n",
    "        \n",
    "        self.name=input(\"What is your name?  \")\n",
    "        \n",
    "        will_help = input(f\"Heyy {self.name}, I am a RuLboT. Will you help me learn about your planet?  \")\n",
    "        \n",
    "        if will_help in self.negative_responses:\n",
    "            \n",
    "            print(\"Okie! Have a nice day\")\n",
    "            return\n",
    "        \n",
    "        self.chat()\n",
    "        \n",
    "        \n",
    "    def make_exit(self, reply):\n",
    "        \n",
    "        for command in self.exit_reponses:\n",
    "            \n",
    "            if reply==command:\n",
    "                print(\"Okie! Have a nice day\")\n",
    "                return True\n",
    "            \n",
    "    def chat(self):\n",
    "        \n",
    "        pass"
   ]
  },
  {
   "cell_type": "code",
   "execution_count": 16,
   "id": "70e46a9d",
   "metadata": {},
   "outputs": [],
   "source": [
    "MYKKA = RuleBot()"
   ]
  },
  {
   "cell_type": "code",
   "execution_count": 17,
   "id": "33ce5649",
   "metadata": {},
   "outputs": [
    {
     "name": "stdout",
     "output_type": "stream",
     "text": [
      "What is your name?  as\n",
      "Heyy as, I am a RuLboT. Will you help me learn about your planet?  no\n",
      "Okie! Have a nice day\n"
     ]
    }
   ],
   "source": [
    "MYKKA.greet()"
   ]
  },
  {
   "cell_type": "code",
   "execution_count": null,
   "id": "caa19dc8",
   "metadata": {},
   "outputs": [],
   "source": []
  }
 ],
 "metadata": {
  "kernelspec": {
   "display_name": "Python 3 (ipykernel)",
   "language": "python",
   "name": "python3"
  },
  "language_info": {
   "codemirror_mode": {
    "name": "ipython",
    "version": 3
   },
   "file_extension": ".py",
   "mimetype": "text/x-python",
   "name": "python",
   "nbconvert_exporter": "python",
   "pygments_lexer": "ipython3",
   "version": "3.11.5"
  }
 },
 "nbformat": 4,
 "nbformat_minor": 5
}
